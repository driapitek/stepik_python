{
  "nbformat": 4,
  "nbformat_minor": 0,
  "metadata": {
    "colab": {
      "name": "stepik3.ipynb",
      "provenance": [],
      "collapsed_sections": [],
      "toc_visible": true
    },
    "kernelspec": {
      "name": "python3",
      "display_name": "Python 3"
    }
  },
  "cells": [
    {
      "cell_type": "markdown",
      "metadata": {
        "id": "H1D-sNu_Ew4r",
        "colab_type": "text"
      },
      "source": [
        "# Функции\n",
        "Функция должна быть объявлена ранее первого вызова.\n",
        "Всё логично"
      ]
    },
    {
      "cell_type": "code",
      "metadata": {
        "id": "rwLOWFjKEsy3",
        "colab_type": "code",
        "outputId": "1f7ff4cb-43b5-4775-9e19-d3ab1ea4adf4",
        "colab": {
          "base_uri": "https://localhost:8080/",
          "height": 50
        }
      },
      "source": [
        "def min2(a,b):\n",
        "  if a<=b:\n",
        "    return a\n",
        "  else:\n",
        "    return b\n",
        "\n",
        "a = min2(12, 16)\n",
        "print(a)\n",
        "print(min2(min2(12, 18), 7))"
      ],
      "execution_count": 0,
      "outputs": [
        {
          "output_type": "stream",
          "text": [
            "12\n",
            "7\n"
          ],
          "name": "stdout"
        }
      ]
    },
    {
      "cell_type": "markdown",
      "metadata": {
        "id": "IR5GzoXtGvUP",
        "colab_type": "text"
      },
      "source": [
        "Функция может быть\n",
        "\n",
        "*   Без возвращаемого значения\n",
        "*   Произвольное число параметров\n",
        "*   Параметры со значениями по умолчанию\n",
        "*   Без параметров\n",
        "\n",
        "\n"
      ]
    },
    {
      "cell_type": "markdown",
      "metadata": {
        "id": "r3P-wIJWIU2U",
        "colab_type": "text"
      },
      "source": [
        "Вот например функция поиска минимума"
      ]
    },
    {
      "cell_type": "code",
      "metadata": {
        "id": "x4nJ5b7MITTT",
        "colab_type": "code",
        "colab": {}
      },
      "source": [
        "# Звёздочка показывает, что может быть произвольное количество аргументов\n",
        "def min(*a):      \n",
        "    m = a[0]\n",
        "    for x in a:\n",
        "        if m > x:\n",
        "            m = x\n",
        "    return m"
      ],
      "execution_count": 0,
      "outputs": []
    },
    {
      "cell_type": "code",
      "metadata": {
        "id": "H2b4qrAHIbCT",
        "colab_type": "code",
        "outputId": "d7e9f96c-9a6e-42b4-a561-095d49d9ccd4",
        "colab": {
          "base_uri": "https://localhost:8080/",
          "height": 84
        }
      },
      "source": [
        "print(min(5))\n",
        "print(min(5, 3))\n",
        "print(min(5, 3, 6, 10))\n",
        "print(min([5, 3, 6, 10]))"
      ],
      "execution_count": 0,
      "outputs": [
        {
          "output_type": "stream",
          "text": [
            "5\n",
            "3\n",
            "3\n",
            "[5, 3, 6, 10]\n"
          ],
          "name": "stdout"
        }
      ]
    },
    {
      "cell_type": "code",
      "metadata": {
        "id": "gyXeZT7JIcTq",
        "colab_type": "code",
        "colab": {}
      },
      "source": [
        "# Параметры по умолчанию задаются в теле def явно\n",
        "def my_range(start, stop, step=1):\n",
        "    res = []\n",
        "    if step > 0:\n",
        "        x = start\n",
        "        while x < stop:\n",
        "            res += [x]\n",
        "            x += step\n",
        "    elif step < 0:\n",
        "        x = start\n",
        "        while x > stop:\n",
        "            res += [x]\n",
        "            x += step\n",
        "    return res"
      ],
      "execution_count": 0,
      "outputs": []
    },
    {
      "cell_type": "code",
      "metadata": {
        "id": "UVqFHjnHIzu0",
        "colab_type": "code",
        "outputId": "53931a6c-5405-46f6-d9ac-de569445be19",
        "colab": {
          "base_uri": "https://localhost:8080/",
          "height": 84
        }
      },
      "source": [
        "print(my_range(2, 5))\n",
        "print(my_range(2, 100, step = 15))\n",
        "# Аргументы в вызове функции можно задавать без имени в том порядке, в котором они указаны в функции\n",
        "print(my_range(2, 15, 3))\n",
        "print(my_range(15, 2, -3))"
      ],
      "execution_count": 0,
      "outputs": [
        {
          "output_type": "stream",
          "text": [
            "[2, 3, 4]\n",
            "[2, 17, 32, 47, 62, 77, 92]\n",
            "[2, 5, 8, 11, 14]\n",
            "[15, 12, 9, 6, 3]\n"
          ],
          "name": "stdout"
        }
      ]
    },
    {
      "cell_type": "markdown",
      "metadata": {
        "id": "7XewtUSxJt0C",
        "colab_type": "text"
      },
      "source": [
        "## Локальные переменные\n",
        "\n",
        "Объявляются только внутри функции.\n",
        "\n",
        "Но можно изменять объекты связанные с локальными переменными"
      ]
    },
    {
      "cell_type": "code",
      "metadata": {
        "id": "mrphSD7kI2O0",
        "colab_type": "code",
        "outputId": "6a229e6d-1eab-4f2b-ecaa-4783d87af234",
        "colab": {
          "base_uri": "https://localhost:8080/",
          "height": 33
        }
      },
      "source": [
        "def append_zero(xs):\n",
        "  xs.append(0)\n",
        "\n",
        "a =[]\n",
        "append_zero(a)\n",
        "print(a)"
      ],
      "execution_count": 0,
      "outputs": [
        {
          "output_type": "stream",
          "text": [
            "[0]\n"
          ],
          "name": "stdout"
        }
      ]
    },
    {
      "cell_type": "markdown",
      "metadata": {
        "id": "-Y2D4n9WKxDM",
        "colab_type": "text"
      },
      "source": [
        "Связи переменных внутри функций"
      ]
    },
    {
      "cell_type": "code",
      "metadata": {
        "id": "UhV2_i49KvzQ",
        "colab_type": "code",
        "outputId": "b9a954a1-5d03-49ab-f0e4-a9add1f411a1",
        "colab": {
          "base_uri": "https://localhost:8080/",
          "height": 33
        }
      },
      "source": [
        "def append_zero(xs):\n",
        "  xs.append(0)\n",
        "  xs = [100]\n",
        "\n",
        "a =[]\n",
        "append_zero(a)\n",
        "print(a)"
      ],
      "execution_count": 0,
      "outputs": [
        {
          "output_type": "stream",
          "text": [
            "[0]\n"
          ],
          "name": "stdout"
        }
      ]
    },
    {
      "cell_type": "markdown",
      "metadata": {
        "id": "isXqEr7eK8zq",
        "colab_type": "text"
      },
      "source": [
        "## Глобальные переменные"
      ]
    },
    {
      "cell_type": "code",
      "metadata": {
        "id": "bIzcU26LK-hl",
        "colab_type": "code",
        "outputId": "752fcfa9-5b40-4aae-c462-e1206ba687f1",
        "colab": {
          "base_uri": "https://localhost:8080/",
          "height": 33
        }
      },
      "source": [
        "def print_value():\n",
        "  print(a)\n",
        "\n",
        "a = 100\n",
        "print_value()"
      ],
      "execution_count": 0,
      "outputs": [
        {
          "output_type": "stream",
          "text": [
            "100\n"
          ],
          "name": "stdout"
        }
      ]
    },
    {
      "cell_type": "markdown",
      "metadata": {
        "id": "F26FwH8HOEAy",
        "colab_type": "text"
      },
      "source": [
        "### Задачa 1\n",
        "Напишите функцию f(x), которая возвращает значение следующей функции, определённой на всей числовой прямой:"
      ]
    },
    {
      "cell_type": "code",
      "metadata": {
        "id": "G8pzJFH-OGZT",
        "colab_type": "code",
        "outputId": "1c8b0d0e-6b85-48b1-9e80-d56598efd7d6",
        "colab": {
          "base_uri": "https://localhost:8080/",
          "height": 33
        }
      },
      "source": [
        "def foo(x):\n",
        "  if x <= -2:\n",
        "    result = 1 - (x + 2)**2\n",
        "  elif (x > -2) and (x <= 2):\n",
        "    result = -0.5 * x\n",
        "  else:\n",
        "    result = (x - 2)** 2 + 1\n",
        "  return result\n",
        "\n",
        "print(foo(1))"
      ],
      "execution_count": 0,
      "outputs": [
        {
          "output_type": "stream",
          "text": [
            "-0.5\n"
          ],
          "name": "stdout"
        }
      ]
    },
    {
      "cell_type": "markdown",
      "metadata": {
        "id": "apzQZllAPXDV",
        "colab_type": "text"
      },
      "source": [
        "### Задача 2\n",
        "Напишите функцию modify_list(l), которая принимает на вход список целых чисел, удаляет из него все нечётные значения, а чётные нацело делит на два. Функция не должна ничего возвращать, требуется только изменение переданного списка,"
      ]
    },
    {
      "cell_type": "code",
      "metadata": {
        "id": "GpBE391sPbFP",
        "colab_type": "code",
        "colab": {}
      },
      "source": [
        "def modify_list(l):\n",
        "    for x in l[:]:        # этот синтаксис --- среза массива для каждого элемента массива\n",
        "        if x % 2 == 0:\n",
        "            l.append(x//2)\n",
        "        l.remove(x)"
      ],
      "execution_count": 0,
      "outputs": []
    },
    {
      "cell_type": "markdown",
      "metadata": {
        "id": "tSVAFK0BoMGu",
        "colab_type": "text"
      },
      "source": [
        "# Множества\n",
        "\n",
        "Вот так set() --- мы задаём множество\n",
        "\n"
      ]
    },
    {
      "cell_type": "code",
      "metadata": {
        "id": "-9yGsUVjo7Ki",
        "colab_type": "code",
        "outputId": "455fc55e-fcc8-4e31-b877-fb0f18c0a8ed",
        "colab": {
          "base_uri": "https://localhost:8080/",
          "height": 69
        }
      },
      "source": [
        "s = set() # создание пустого множетсва\n",
        "basket = {'apple', 'orange', 'apple', 'pear', 'orange', 'banana'} # Вот так задаются значения множества\n",
        "print(basket)  \n",
        "# Стоит заметить, что на вывод подаются не в том порядке, как мы заносили. И только уникальные\n",
        "print('orange' in basket)  # True\n",
        "print('python' in basket)  # False"
      ],
      "execution_count": 0,
      "outputs": [
        {
          "output_type": "stream",
          "text": [
            "{'pear', 'banana', 'orange', 'apple'}\n",
            "True\n",
            "False\n"
          ],
          "name": "stdout"
        }
      ]
    },
    {
      "cell_type": "markdown",
      "metadata": {
        "id": "kijAb3G8p34o",
        "colab_type": "text"
      },
      "source": [
        "## Операции с множествами"
      ]
    },
    {
      "cell_type": "code",
      "metadata": {
        "id": "x-K_sIAUp2sJ",
        "colab_type": "code",
        "outputId": "497cc153-114d-4ffa-e7e9-63a0d8656ea2",
        "colab": {
          "base_uri": "https://localhost:8080/",
          "height": 104
        }
      },
      "source": [
        "element = 'apple'\n",
        "s = basket\n",
        "s.add(element)\n",
        "print(s)\n",
        "s.remove(element)\n",
        "print(s)\n",
        "s.discard(element)\n",
        "print(s)\n",
        "s.clear()\n",
        "print(s)\n",
        "print(basket)"
      ],
      "execution_count": 0,
      "outputs": [
        {
          "output_type": "stream",
          "text": [
            "{'pear', 'banana', 'orange', 'apple'}\n",
            "{'pear', 'banana', 'orange'}\n",
            "{'pear', 'banana', 'orange'}\n",
            "set()\n",
            "set()\n"
          ],
          "name": "stdout"
        }
      ]
    },
    {
      "cell_type": "code",
      "metadata": {
        "id": "B4xLyqtTrdMc",
        "colab_type": "code",
        "outputId": "5e128e5c-79dc-4cb8-abd0-d10a20977f9e",
        "colab": {
          "base_uri": "https://localhost:8080/",
          "height": 87
        }
      },
      "source": [
        "basket = {'apple', 'orange', 'apple', 'pear', 'orange', 'banana'} # Считается уникальная запись\n",
        "for x in basket:\n",
        "    print(x)"
      ],
      "execution_count": 0,
      "outputs": [
        {
          "output_type": "stream",
          "text": [
            "pear\n",
            "banana\n",
            "orange\n",
            "apple\n"
          ],
          "name": "stdout"
        }
      ]
    },
    {
      "cell_type": "markdown",
      "metadata": {
        "id": "PKorTv8Fq2AD",
        "colab_type": "text"
      },
      "source": [
        "# Словари\n",
        "\n",
        "словарь = {ключ_1: значение_1, ключ_2: значение_2}"
      ]
    },
    {
      "cell_type": "code",
      "metadata": {
        "id": "H3E9AfbFrLF4",
        "colab_type": "code",
        "outputId": "c925db21-eb5b-473c-d953-dfc6b598b2ee",
        "colab": {
          "base_uri": "https://localhost:8080/",
          "height": 52
        }
      },
      "source": [
        "#  вот так задаём\n",
        "d = dict()\n",
        "d = {}\n",
        "d = {'a': 239, 10: 100}\n",
        "# работает индексация\n",
        "print(d['a'])\n",
        "print(d[10])"
      ],
      "execution_count": 0,
      "outputs": [
        {
          "output_type": "stream",
          "text": [
            "239\n",
            "100\n"
          ],
          "name": "stdout"
        }
      ]
    },
    {
      "cell_type": "code",
      "metadata": {
        "id": "-KSXpxRhrqYY",
        "colab_type": "code",
        "outputId": "01f0bc8a-1c26-42e5-9bf4-7bffe53de62c",
        "colab": {
          "base_uri": "https://localhost:8080/",
          "height": 52
        }
      },
      "source": [
        "# Можно проверять наличие записи в словаре\n",
        "dictionary = d\n",
        "key = 'a'\n",
        "print(key in dictionary)\n",
        "print(key not in dictionary)"
      ],
      "execution_count": 0,
      "outputs": [
        {
          "output_type": "stream",
          "text": [
            "True\n",
            "False\n"
          ],
          "name": "stdout"
        }
      ]
    },
    {
      "cell_type": "code",
      "metadata": {
        "id": "MhLLe8O8r2Yc",
        "colab_type": "code",
        "outputId": "844fba9b-6b3e-449e-cc92-1defb51db952",
        "colab": {
          "base_uri": "https://localhost:8080/",
          "height": 35
        }
      },
      "source": [
        "# присваиваем через индекс\n",
        "dictionary[key] = 42\n",
        "dictionary[key]"
      ],
      "execution_count": 0,
      "outputs": [
        {
          "output_type": "execute_result",
          "data": {
            "text/plain": [
              "42"
            ]
          },
          "metadata": {
            "tags": []
          },
          "execution_count": 9
        }
      ]
    },
    {
      "cell_type": "code",
      "metadata": {
        "id": "roFNzEdyr-dZ",
        "colab_type": "code",
        "outputId": "83cae04f-76e4-43d4-98fd-2718305c7f0f",
        "colab": {
          "base_uri": "https://localhost:8080/",
          "height": 35
        }
      },
      "source": [
        "# выбор из словаря\n",
        "dictionary.get(10)"
      ],
      "execution_count": 0,
      "outputs": [
        {
          "output_type": "execute_result",
          "data": {
            "text/plain": [
              "100"
            ]
          },
          "metadata": {
            "tags": []
          },
          "execution_count": 11
        }
      ]
    },
    {
      "cell_type": "code",
      "metadata": {
        "id": "JUNB9orj5Lp6",
        "colab_type": "code",
        "outputId": "165b2e8d-63de-43dd-8367-76de15c68274",
        "colab": {
          "base_uri": "https://localhost:8080/",
          "height": 52
        }
      },
      "source": [
        "# Перебор элементов словаря\n",
        "d = {'C': 14, 'A': 12, 'T': 9, 'G': 18}\n",
        "for key in d:\n",
        "    print(key, end=' ')\n",
        "\n",
        "print()\n",
        "\n",
        "# Такая запись упрощённое соответствие вот этой записи\n",
        "for key in d.keys():\n",
        "    print(key, end=' ')"
      ],
      "execution_count": 0,
      "outputs": [
        {
          "output_type": "stream",
          "text": [
            "C A T G \n",
            "C A T G "
          ],
          "name": "stdout"
        }
      ]
    },
    {
      "cell_type": "code",
      "metadata": {
        "id": "Oqlj3e3d5uFT",
        "colab_type": "code",
        "outputId": "68f928ee-64e9-4401-afe3-957dba89ca9c",
        "colab": {
          "base_uri": "https://localhost:8080/",
          "height": 35
        }
      },
      "source": [
        "# Для того чтобы достать из словаря значения нужно воспользоваться\n",
        "for value in d.values():\n",
        "    print(value, end=' ') "
      ],
      "execution_count": 0,
      "outputs": [
        {
          "output_type": "stream",
          "text": [
            "14 12 9 18 "
          ],
          "name": "stdout"
        }
      ]
    },
    {
      "cell_type": "code",
      "metadata": {
        "id": "c9pUV1kk82Xk",
        "colab_type": "code",
        "outputId": "0d905334-daa6-4587-f812-8d6426c07f55",
        "colab": {
          "base_uri": "https://localhost:8080/",
          "height": 86
        }
      },
      "source": [
        "# Для того чтобы достать пару ключ значение нужно сделать так\n",
        "d = {'C': 14, 'A': 12, 'T': 9, 'G': 18}\n",
        "for key, value in d.items():\n",
        "  print(key, ':', sep = '', end = '')\n",
        "  print(value, value, sep = ' ', end = '\\n')"
      ],
      "execution_count": 0,
      "outputs": [
        {
          "output_type": "stream",
          "text": [
            "C:14 14\n",
            "A:12 12\n",
            "T:9 9\n",
            "G:18 18\n"
          ],
          "name": "stdout"
        }
      ]
    },
    {
      "cell_type": "markdown",
      "metadata": {
        "id": "k4GSswkn9ZjS",
        "colab_type": "text"
      },
      "source": [
        "Ключам можно задавать список"
      ]
    },
    {
      "cell_type": "code",
      "metadata": {
        "id": "6uDS5auB8-Ch",
        "colab_type": "code",
        "outputId": "6df626d3-b694-4838-e316-97c1a10c7e9f",
        "colab": {
          "base_uri": "https://localhost:8080/",
          "height": 35
        }
      },
      "source": [
        "example = {'A': [22, 33, 44], 'B': [10, 20]}\n",
        "\n",
        "print(example['A'][1])"
      ],
      "execution_count": 0,
      "outputs": [
        {
          "output_type": "stream",
          "text": [
            "33\n"
          ],
          "name": "stdout"
        }
      ]
    },
    {
      "cell_type": "markdown",
      "metadata": {
        "id": "IVoRc3zb0Opp",
        "colab_type": "text"
      },
      "source": [
        "### Задача\n",
        "Напишите функцию update_dictionary(d, key, value), которая принимает на вход словарь d и два числа: key и value.\n",
        "\n",
        "Если ключ key есть в словаре d, то добавьте значение value в список, который хранится по этому ключу.\n",
        "\n",
        "Если ключа key нет в словаре, то нужно добавить значение в список по ключу 2∗key. \n",
        "\n",
        "Если и ключа 2∗key нет, то нужно добавить ключ 2∗key в словарь и сопоставить ему список из переданного элемента [value].\n",
        "\n",
        "Требуется реализовать только эту функцию, кода вне неё не должно быть.\n",
        "Функция не должна вызывать внутри себя функции input и print.\n"
      ]
    },
    {
      "cell_type": "code",
      "metadata": {
        "id": "fLUvbvst1hTN",
        "colab_type": "code",
        "outputId": "5c034c5d-5611-42fa-e16d-99c1e9c2a3ed",
        "colab": {
          "base_uri": "https://localhost:8080/",
          "height": 84
        }
      },
      "source": [
        "def update_dictionary(d, key, value):\n",
        "  if key in d.keys():\n",
        "    d[key].append(value)\n",
        "  elif key*2 in d.keys():\n",
        "    d[key*2].append(value)\n",
        "  else:\n",
        "    d[key*2] = [value]\n",
        "\n",
        "d = {}\n",
        "print(update_dictionary(d, 1, -1))  # None\n",
        "print(d)                            # {2: [-1]}\n",
        "update_dictionary(d, 2, -2)\n",
        "print(d)                            # {2: [-1, -2]}\n",
        "update_dictionary(d, 1, -3)\n",
        "print(d)                            # {2: [-1, -2, -3]}"
      ],
      "execution_count": 0,
      "outputs": [
        {
          "output_type": "stream",
          "text": [
            "None\n",
            "{2: [-1]}\n",
            "{2: [-1, -2]}\n",
            "{2: [-1, -2, -3]}\n"
          ],
          "name": "stdout"
        }
      ]
    },
    {
      "cell_type": "markdown",
      "metadata": {
        "id": "qPfFVHHf8oxt",
        "colab_type": "text"
      },
      "source": [
        "### Задача\n",
        "\n",
        "Когда Антон прочитал «Войну и мир», ему стало интересно, сколько слов и в каком количестве используется в этой книге.\n",
        "\n",
        "Помогите Антону написать упрощённую версию такой программы, которая сможет подсчитать слова, разделённые пробелом и вывести получившуюся статистику.\n",
        "\n",
        "Программа должна считывать одну строку со стандартного ввода и выводить для каждого уникального слова в этой строке число его повторений (без учёта регистра) в формате \"слово количество\" (см. пример вывода).\n",
        "Порядок вывода слов может быть произвольным, каждое уникальное слово﻿ должно выводиться только один раз."
      ]
    },
    {
      "cell_type": "code",
      "metadata": {
        "id": "0vGyISW50SI2",
        "colab_type": "code",
        "outputId": "72d7cd1c-aa59-4a65-ba4d-756c29d38241",
        "colab": {
          "base_uri": "https://localhost:8080/",
          "height": 67
        }
      },
      "source": [
        "example = {'A': [22, 33, 44], 'B': [10, 20], 'C': [10, 20]}\n",
        "for key in example.keys():\n",
        "    print(key, end='\\n')"
      ],
      "execution_count": 0,
      "outputs": [
        {
          "output_type": "stream",
          "text": [
            "A\n",
            "B\n",
            "C\n"
          ],
          "name": "stdout"
        }
      ]
    },
    {
      "cell_type": "code",
      "metadata": {
        "id": "N6NkK8WHE3T3",
        "colab_type": "code",
        "outputId": "a66ab729-a06b-4cf0-a3e3-50bc4766f2f0",
        "colab": {
          "base_uri": "https://localhost:8080/",
          "height": 121
        }
      },
      "source": [
        "input_list = [str(i).lower() for i in input().split()]\n",
        "dictionary = {word:input_list.count(word) for word in input_list}\n",
        "for key, value in dictionary.items():\n",
        "    print(key, value, end='\\n')\n",
        "print(dictionary)"
      ],
      "execution_count": 0,
      "outputs": [
        {
          "output_type": "stream",
          "text": [
            "ddd ddd qar asdfw asd qar\n",
            "ddd 2\n",
            "qar 2\n",
            "asdfw 1\n",
            "asd 1\n",
            "{'ddd': 2, 'qar': 2, 'asdfw': 1, 'asd': 1}\n"
          ],
          "name": "stdout"
        }
      ]
    },
    {
      "cell_type": "code",
      "metadata": {
        "id": "_pRMXVcxG4G6",
        "colab_type": "code",
        "colab": {}
      },
      "source": [
        "# Вот локоничная версия этой программы\n",
        "s = input().lower().split()\n",
        "for i in set(s):\n",
        "    print(i, s.count(i))"
      ],
      "execution_count": 0,
      "outputs": []
    },
    {
      "cell_type": "markdown",
      "metadata": {
        "id": "_8pRZUWMJM0t",
        "colab_type": "text"
      },
      "source": [
        "### Задача\n",
        "Имеется реализованная функция f(x), принимающая на вход целое число x, которая вычисляет некоторое целочисленое значение и возвращает его в качестве результата работы.\n",
        "\n",
        "Функция вычисляется достаточно долго, ничего не выводит на экран, не пишет в файлы и зависит только от переданного аргумента x.\n",
        "\n",
        "Напишите программу, которой на вход в первой строке подаётся число n — количество значений x, для которых требуется узнать значение функции f(x), после чего сами эти n значений, каждое на отдельной строке. Программа должна после каждого введённого значения аргумента вывести соответствующие значения функции f на отдельной строке.\n",
        "\n",
        "Для ускорения вычисления необходимо сохранять уже вычисленные значения функции при известных аргументах."
      ]
    },
    {
      "cell_type": "code",
      "metadata": {
        "id": "1QeGqKAeJR4U",
        "colab_type": "code",
        "colab": {}
      },
      "source": [
        "def f(x):\n",
        "    return x+1\n",
        "    \n",
        "number_of_int = int(input())\n",
        "result = {}\n",
        "# dictionary = {int(input()) for i in range(number_of_int)}\n",
        "for i in range(number_of_int):\n",
        "  key = int(input())\n",
        "  if key not in result:\n",
        "    result[key] = f(key)\n",
        "    print(result[key])\n",
        "  else:\n",
        "    print(result[key])"
      ],
      "execution_count": 0,
      "outputs": []
    },
    {
      "cell_type": "markdown",
      "metadata": {
        "id": "CFc0bMpdDRrj",
        "colab_type": "text"
      },
      "source": [
        "## Чтение из файла\n"
      ]
    },
    {
      "cell_type": "code",
      "metadata": {
        "id": "a36aHzK4DYT1",
        "colab_type": "code",
        "colab": {}
      },
      "source": [
        "inf = open('file.txt', 'r')  # open('file.txt')\n",
        "s1 = inf.readline()\n",
        "s2 = inf.readline()\n",
        "inf.close()\n",
        "with open('text.txt') as inf:\n",
        "    s1 = inf.readline()\n",
        "    s2 = inf.readline()\n"
      ],
      "execution_count": 0,
      "outputs": []
    },
    {
      "cell_type": "markdown",
      "metadata": {
        "id": "1iifpdZDf_l1",
        "colab_type": "text"
      },
      "source": [
        "## Запись в файл"
      ]
    },
    {
      "cell_type": "code",
      "metadata": {
        "id": "z9ECTt0ygH06",
        "colab_type": "code",
        "colab": {}
      },
      "source": [
        "with open('text.txt', 'w') as inf:\n",
        "    s1 = inf.readline()\n",
        "    s2 = inf.readline()"
      ],
      "execution_count": 0,
      "outputs": []
    },
    {
      "cell_type": "markdown",
      "metadata": {
        "id": "3P1uwpJNdqcN",
        "colab_type": "text"
      },
      "source": [
        "### Задача\n",
        "На прошлой неделе мы сжимали строки, используя кодирование повторов. Теперь нашей задачей будет восстановление исходной строки обратно.\n",
        "\n",
        "Напишите программу, которая считывает из файла строку, соответствующую тексту, сжатому с помощью кодирования повторов, и производит обратную операцию, получая исходный текст.\n",
        "\n",
        "Запишите полученный текст в файл и прикрепите его, как ответ на это задание.\n",
        "\n",
        "В исходном тексте не встречаются цифры, так что код однозначно интерпретируем.\n",
        "\n",
        "Примечание. Это первое задание типа Dataset Quiz. В таких заданиях после нажатия \"Start Quiz\" у вас появляется ссылка \"download your dataset\". Используйте эту ссылку для того, чтобы загрузить файл со входными данными к себе на компьютер. Запустите вашу программу, используя этот файл в качестве входных данных. Выходной файл, который при этом у вас получится, надо отправить в качестве ответа на эту задачу."
      ]
    },
    {
      "cell_type": "code",
      "metadata": {
        "id": "4rlux-wbDa-_",
        "colab_type": "code",
        "outputId": "6d91bf35-4b70-4942-a517-cb111fdbfab2",
        "colab": {
          "base_uri": "https://localhost:8080/",
          "height": 55
        }
      },
      "source": [
        "# read file\n",
        "with open('dataset_3363_2.txt') as dataset:\n",
        "    s2 = dataset.readline()\n",
        "\n",
        "# s2 = 'E3L2S14D16E7q2W7Y4v4A2G12D19P15t3S14W15S9O16E1A19P18w2B7P8O8B6d11p12k11e14i10H6L15U18u4n5p2j11B13J5U20k16\\n'\n",
        "\n",
        "with open('output.txt', \"w\") as s2:\n",
        "  for i in range(len(s2)):\n",
        "    if s2[i].isalpha():\n",
        "        if i+2 >= len(s2):\n",
        "            print(s2[i]*int(s2[i+1]), end = '')\n",
        "        elif s2[i+2].isdigit():\n",
        "            print(s2[i]*int(s2[i+1]+s2[i+2]),end = '')\n",
        "        else:\n",
        "            print(s2[i]*int(s2[i+1]), end = '')"
      ],
      "execution_count": 0,
      "outputs": [
        {
          "output_type": "stream",
          "text": [
            "EEELLSSSSSSSSSSSSSSDDDDDDDDDDDDDDDDEEEEEEEqqWWWWWWWYYYYvvvvAAGGGGGGGGGGGGDDDDDDDDDDDDDDDDDDDPPPPPPPPPPPPPPPtttSSSSSSSSSSSSSSWWWWWWWWWWWWWWWSSSSSSSSSOOOOOOOOOOOOOOOOEAAAAAAAAAAAAAAAAAAAPPPPPPPPPPPPPPPPPPwwBBBBBBBPPPPPPPPOOOOOOOOBBBBBBdddddddddddppppppppppppkkkkkkkkkkkeeeeeeeeeeeeeeiiiiiiiiiiHHHHHHLLLLLLLLLLLLLLLUUUUUUUUUUUUUUUUUUuuuunnnnnppjjjjjjjjjjjBBBBBBBBBBBBBJJJJJUUUUUUUUUUUUUUUUUUUUkkkkkkkkkkkkkkkk"
          ],
          "name": "stdout"
        }
      ]
    },
    {
      "cell_type": "markdown",
      "metadata": {
        "id": "vuYdTmfvj3D6",
        "colab_type": "text"
      },
      "source": [
        "### Задача 2\n",
        "Недавно мы считали для каждого слова количество его вхождений в строку. Но на все слова может быть не так интересно смотреть, как, например, на наиболее часто используемые.\n",
        "\n",
        "Напишите программу, которая считывает текст из файла (в файле может быть больше одной строки) и выводит самое частое слово в этом тексте и через пробел то, сколько раз оно встретилось. Если таких слов несколько, вывести лексикографически первое (можно использовать оператор < для строк).\n",
        "\n",
        "В качестве ответа укажите вывод программы, а не саму программу.\n",
        "\n",
        "Слова, написанные в разных регистрах, считаются одинаковыми."
      ]
    },
    {
      "cell_type": "code",
      "metadata": {
        "id": "NuknE3FXj8S3",
        "colab_type": "code",
        "outputId": "163d9889-44fe-41b3-fc63-1d7bb41d3d00",
        "colab": {
          "base_uri": "https://localhost:8080/",
          "height": 35
        }
      },
      "source": [
        "output = []\n",
        "with open('dataset_3363_3.txt') as dataset:\n",
        "  for line in dataset:\n",
        "    output += line.split()\n",
        "\n",
        "lower_output = [x.lower() for x in output]\n",
        "dictionary = {word:lower_output.count(word) for word in lower_output}\n",
        "\n",
        "val = list(dictionary.values())\n",
        "keys= list(dictionary.keys())\n",
        "val.sort()\n",
        "\n",
        "if val[-2] == val[-1]:\n",
        "  if (list(dictionary.keys())[list(dictionary.values()).index(val[-1])]) < (list(dictionary.keys())[list(dictionary.values()).index(val[-2])]):\n",
        "    print(list(dictionary.keys())[list(dictionary.values()).index(val[-1])], val[-1])\n",
        "  else:\n",
        "    print(list(dictionary.keys())[list(dictionary.values()).index(val[-2])], val[-2])\n",
        "else:\n",
        "  print(list(dictionary.keys())[list(dictionary.values()).index(val[-1])], val[-1])"
      ],
      "execution_count": 0,
      "outputs": [
        {
          "output_type": "stream",
          "text": [
            "b 14\n"
          ],
          "name": "stdout"
        }
      ]
    },
    {
      "cell_type": "code",
      "metadata": {
        "id": "738U5Qh7Kf77",
        "colab_type": "code",
        "colab": {}
      },
      "source": [
        "# чтение файла\n",
        "with open('dataset_3363_4.txt', 'r') as f:\n",
        "    students = f.read().splitlines()\n",
        "# создание словаря из файла \n",
        "d = {}\n",
        "for string in students:\n",
        "  key, *value = string.split(\";\")\n",
        "  for i in range(0, len(value)): \n",
        "    value[i] = int(value[i])\n",
        "  d[key] = value\n",
        "# вывод построчно среднего значения для каждого студента\n",
        "for value in d.values():\n",
        "    print(sum(value)/3, end='\\n')\n",
        "# вывод средних значений по всем студентам\n",
        "output = []\n",
        "for value in (zip(*list(d.values()))):\n",
        "           output.append(sum(value)/len(d.keys()))\n",
        "for i in output:\n",
        "  print(i, end = \" \")"
      ],
      "execution_count": 0,
      "outputs": []
    },
    {
      "cell_type": "code",
      "metadata": {
        "id": "HrOAPtFjMnEt",
        "colab_type": "code",
        "outputId": "b95adb46-3105-4bb5-95ad-f8871f75280c",
        "colab": {
          "base_uri": "https://localhost:8080/",
          "height": 33
        }
      },
      "source": [
        "d = {'Clapton': [76, 93, 96], 'Forman': [53, 84, 95]}\n",
        "output = []\n",
        "for value in (zip(*list(d.values()))):\n",
        "           output.append(sum(value)/len(d.keys()))\n",
        "for i in output:\n",
        "  print(i, end = \" \")"
      ],
      "execution_count": 0,
      "outputs": [
        {
          "output_type": "stream",
          "text": [
            "64.5 88.5 95.5 "
          ],
          "name": "stdout"
        }
      ]
    },
    {
      "cell_type": "markdown",
      "metadata": {
        "id": "N-2nwpVy3qp6",
        "colab_type": "text"
      },
      "source": [
        "## Подключение модулей\n"
      ]
    },
    {
      "cell_type": "code",
      "metadata": {
        "id": "NLC2cB2K32T3",
        "colab_type": "code",
        "outputId": "5c533481-deb3-47af-b12b-eee9ebf85036",
        "colab": {
          "base_uri": "https://localhost:8080/",
          "height": 50
        }
      },
      "source": [
        "from math import pi\n",
        "a = float(input())\n",
        "print(pi * 2 * a)\n",
        "\n"
      ],
      "execution_count": 0,
      "outputs": [
        {
          "output_type": "stream",
          "text": [
            "10\n",
            "62.83185307179586\n"
          ],
          "name": "stdout"
        }
      ]
    },
    {
      "cell_type": "markdown",
      "metadata": {
        "id": "yIDFiliocknk",
        "colab_type": "text"
      },
      "source": [
        "# Задача 1\n",
        "Напишите программу, которая принимает на стандартный вход список игр футбольных команд с результатом матча и выводит на стандартный вывод сводную таблицу результатов всех матчей.\n",
        "\n",
        "За победу команде начисляется 3 очка, за поражение — 0, за ничью — 1.\n",
        "\n",
        "Формат ввода следующий:\n",
        "В первой строке указано целое число n — количество завершенных игр.\n",
        "После этого идет n строк, в которых записаны результаты игры в следующем формате:\n",
        "Первая_команда;Забито_первой_командой;Вторая_команда;Забито_второй_командой\n",
        "\n",
        "Вывод программы необходимо оформить следующим образом:\n",
        "Команда:Всего_игр Побед Ничьих Поражений Всего_очков\n",
        "\n",
        "Конкретный пример ввода-вывода приведён ниже.\n",
        "\n",
        "Порядок вывода команд произвольный."
      ]
    },
    {
      "cell_type": "code",
      "metadata": {
        "id": "RPQb0UNtg0w1",
        "colab_type": "code",
        "outputId": "9295633b-cf30-46ff-cf05-66505af67e4c",
        "colab": {
          "base_uri": "https://localhost:8080/",
          "height": 138
        }
      },
      "source": [
        "dictionary = {}\n",
        "n = int(input())\n",
        "for i in range(n):\n",
        "  input_list = [i for i in input().split(\";\")]\n",
        "  if input_list[0] not in dictionary.keys():\n",
        "    dictionary[input_list[0]] = []\n",
        "  if input_list[2] not in dictionary.keys():\n",
        "    dictionary[input_list[2]] = []\n",
        "  if int(input_list[1]) == int(input_list[3]):\n",
        "    dictionary[input_list[0]].append(1)\n",
        "    dictionary[input_list[2]].append(1)\n",
        "  elif int(input_list[1]) > int(input_list[3]):\n",
        "    dictionary[input_list[0]].append(3)\n",
        "    dictionary[input_list[2]].append(0)\n",
        "  else:\n",
        "    dictionary[input_list[0]].append(0)\n",
        "    dictionary[input_list[2]].append(3)\n",
        "# Подсчёт количества очков\n",
        "for key, value in dictionary.items():\n",
        "  games = len(value)\n",
        "  win = value.count(3)\n",
        "  draw = value.count(1)\n",
        "  lose = value.count(0)\n",
        "  total = sum(value)\n",
        "  print(key, ':', sep = '', end = '')\n",
        "  print(games, win, draw, lose, total, sep = ' ', end = '\\n')\n"
      ],
      "execution_count": 0,
      "outputs": [
        {
          "output_type": "stream",
          "text": [
            "3\n",
            "Зенит;3;Спартак;1\n",
            "Спартак;1;ЦСКА;1\n",
            "ЦСКА;0;Зенит;2\n",
            "Зенит:2 2 0 0 6\n",
            "Спартак:2 0 1 1 1\n",
            "ЦСКА:2 0 1 1 1\n"
          ],
          "name": "stdout"
        }
      ]
    },
    {
      "cell_type": "code",
      "metadata": {
        "id": "WjOsRzp_7_YD",
        "colab_type": "code",
        "outputId": "9c4ba0c7-ec80-4fd6-8a49-ae4bd9d6bde5",
        "colab": {
          "base_uri": "https://localhost:8080/",
          "height": 69
        }
      },
      "source": [
        "d = {'Зенит': [3, 3], 'Спартак': [0, 1], 'ЦСКА': [1, 0]}\n",
        "for key, value in d.items():\n",
        "  games = len(value)\n",
        "  win = value.count(3)\n",
        "  draw = value.count(1)\n",
        "  lose = value.count(0)\n",
        "  total = sum(value)\n",
        "  print(key, ':', sep = '', end = '')\n",
        "  print(games, win, draw, lose, total, sep = ' ', end = '\\n')"
      ],
      "execution_count": 0,
      "outputs": [
        {
          "output_type": "stream",
          "text": [
            "Зенит:2 2 0 0 6\n",
            "Спартак:2 0 1 1 1\n",
            "ЦСКА:2 0 1 1 1\n"
          ],
          "name": "stdout"
        }
      ]
    },
    {
      "cell_type": "markdown",
      "metadata": {
        "id": "h61T4rbZDsJU",
        "colab_type": "text"
      },
      "source": [
        "Тут реализована задача по наполнению словаря уникальными числами"
      ]
    },
    {
      "cell_type": "code",
      "metadata": {
        "id": "bI9cb58h-8VS",
        "colab_type": "code",
        "outputId": "dfc4fced-12b3-4d5a-f08b-42c31b554255",
        "colab": {
          "base_uri": "https://localhost:8080/",
          "height": 35
        }
      },
      "source": [
        "# ввод данных\n",
        "dictionary = {}\n",
        "n = int(input())\n",
        "for i in range(n):\n",
        "  input_list = [i for i in input().split(\";\")]\n",
        "  if input_list[0] in dictionary.keys():\n",
        "    dictionary[input_list[0]].append(int(input_list[1]))\n",
        "  else:\n",
        "    dictionary[input_list[0]] = [int(input_list[1])]\n",
        "  if input_list[2] in dictionary.keys():\n",
        "   dictionary[input_list[2]].append(int(input_list[3]))\n",
        "  else:\n",
        "    dictionary[input_list[2]] = [int(input_list[3])]\n",
        "  print(dictionary)"
      ],
      "execution_count": 0,
      "outputs": [
        {
          "output_type": "execute_result",
          "data": {
            "text/plain": [
              "2"
            ]
          },
          "metadata": {
            "tags": []
          },
          "execution_count": 68
        }
      ]
    },
    {
      "cell_type": "markdown",
      "metadata": {
        "id": "ITpCoFx4EE5C",
        "colab_type": "text"
      },
      "source": [
        "## Задача\n",
        "В какой-то момент в Институте биоинформатики биологи перестали понимать, что говорят информатики: они говорили каким-то странным набором звуков.\n",
        "\n",
        "В какой-то момент один из биологов раскрыл секрет информатиков: они использовали при общении подстановочный шифр, т.е. заменяли каждый символ исходного сообщения на соответствующий ему другой символ. Биологи раздобыли ключ к шифру и теперь нуждаются в помощи:\n",
        "\n",
        "Напишите программу, которая умеет шифровать и расшифровывать шифр подстановки. Программа принимает на вход две строки одинаковой длины, на первой строке записаны символы исходного алфавита, на второй строке — символы конечного алфавита, после чего идёт строка, которую нужно зашифровать переданным ключом, и ещё одна строка, которую нужно расшифровать.\n",
        "\n",
        "Пусть, например, на вход программе передано:\n",
        "abcd\n",
        "*d%#\n",
        "abacabadaba\n",
        "`#*%*d*%`\n",
        "\n",
        "Это значит, что символ a исходного сообщения заменяется на символ * в шифре, b заменяется на d, c — на % и d — на #.\n",
        "Нужно зашифровать строку abacabadaba и расшифровать строку #*%*d*% с помощью этого шифра. Получаем следующие строки, которые и передаём на вывод программы:\n",
        "*d*%*d*#*d*\n",
        "dacabac"
      ]
    },
    {
      "cell_type": "code",
      "metadata": {
        "id": "Phy7PdQGETIQ",
        "colab_type": "code",
        "outputId": "a2a57303-e3a1-47ae-be59-ce1079de58a3",
        "colab": {
          "base_uri": "https://localhost:8080/",
          "height": 52
        }
      },
      "source": [
        "first = [\"a\", \"b\", \"c\"]\n",
        "second = [\"*\", \"#\", \"$\"]\n",
        "string1 = \"abccba\"\n",
        "string2 = \"***###$$$\"\n",
        "\n",
        "for x in string1:\n",
        "  print(second[first.index(x)], end = \"\")\n",
        "print()\n",
        "for x in string2:\n",
        "  print(first[second.index(x)], end = \"\")"
      ],
      "execution_count": 0,
      "outputs": [
        {
          "output_type": "stream",
          "text": [
            "*#$$#*\n",
            "aaabbbccc"
          ],
          "name": "stdout"
        }
      ]
    },
    {
      "cell_type": "code",
      "metadata": {
        "id": "fhA2Qsr0e8Kr",
        "colab_type": "code",
        "outputId": "c8fd5073-1ca2-4bce-b684-0912e9b7ccc5",
        "colab": {
          "base_uri": "https://localhost:8080/",
          "height": 121
        }
      },
      "source": [
        "first = list(input())\n",
        "second = list(input())\n",
        "string1 = input()\n",
        "string2 = input()\n",
        "for x in string1:\n",
        "  print(second[first.index(x)], end = \"\")\n",
        "print()\n",
        "for x in string2:\n",
        "  print(first[second.index(x)], end = \"\")\n"
      ],
      "execution_count": 0,
      "outputs": [
        {
          "output_type": "stream",
          "text": [
            "abcd\n",
            "*d%#\n",
            "abacabadaba\n",
            "#*%*d*%\n",
            "*d*%*d*#*d*\n",
            "dacabac"
          ],
          "name": "stdout"
        }
      ]
    },
    {
      "cell_type": "markdown",
      "metadata": {
        "id": "6XgBH7onjfgS",
        "colab_type": "text"
      },
      "source": [
        "### Задача \n",
        "\n",
        "Группа биологов в институте биоинформатики завела себе черепашку.\n",
        "\n",
        "После дрессировки черепашка научилась понимать и запоминать указания биологов следующего вида:\n",
        "север 10\n",
        "запад 20\n",
        "юг 30\n",
        "восток 40\n",
        "где первое слово — это направление, в котором должна двигаться черепашка, а число после слова — это положительное расстояние в сантиметрах, которое должна пройти черепашка.\n",
        "\n",
        "Но команды даются быстро, а черепашка ползёт медленно, и программисты догадались, что можно написать программу, которая определит, куда в итоге биологи приведут черепашку. Для этого программисты просят вас написать программу, которая выведет точку, в которой окажется черепашка после всех команд. Для простоты они решили считать, что движение начинается в точке (0, 0), и движение на восток увеличивает первую координату, а на север — вторую.\n",
        "\n",
        "Программе подаётся на вход число команд 𝑛, которые нужно выполнить черепашке, после чего 𝑛 строк с самими командами. Вывести нужно два числа в одну строку: первую и вторую координату конечной точки черепашки. Все координаты целочисленные."
      ]
    },
    {
      "cell_type": "code",
      "metadata": {
        "id": "DsUCW3Y5jkbA",
        "colab_type": "code",
        "colab": {
          "base_uri": "https://localhost:8080/",
          "height": 121
        },
        "outputId": "ada6a653-475a-479f-c6cc-55f06c2d0b1d"
      },
      "source": [
        "dictionary = {\"север\":[], \"запад\":[], \"юг\":[], \"восток\":[]}\n",
        "n = int(input())\n",
        "for x in range(n):\n",
        "  input_list = [i for i in input().split()]\n",
        "  dictionary[input_list[0]].append(int(input_list[1]))\n",
        "\n",
        "first = sum(dictionary[\"восток\"]) - sum(dictionary[\"запад\"])\n",
        "second = sum(dictionary[\"север\"]) - sum(dictionary[\"юг\"])\n",
        "print(first, second, sep=\" \")"
      ],
      "execution_count": 20,
      "outputs": [
        {
          "output_type": "stream",
          "text": [
            "4\n",
            "север 10\n",
            "юг 30\n",
            "запад 50\n",
            "восток 60\n",
            "10 -20\n"
          ],
          "name": "stdout"
        }
      ]
    }
  ]
}